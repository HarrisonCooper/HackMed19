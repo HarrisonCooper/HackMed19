{
 "cells": [
  {
   "cell_type": "code",
   "execution_count": 3,
   "metadata": {},
   "outputs": [],
   "source": [
    "import pandas as pd"
   ]
  },
  {
   "cell_type": "code",
   "execution_count": 4,
   "metadata": {},
   "outputs": [],
   "source": [
    "dftest = pd.read_csv('test_data.txt', delimiter = ',')"
   ]
  },
  {
   "cell_type": "code",
   "execution_count": 5,
   "metadata": {
    "scrolled": true
   },
   "outputs": [
    {
     "name": "stdout",
     "output_type": "stream",
     "text": [
      "   1  0.1350000  0.0000073  0.0670000  0.0780000  0.2020000  2.0330000  \\\n",
      "0  1      0.143   0.000007      0.073      0.081      0.219      1.236   \n",
      "\n",
      "   0.1780000  1.0740000  1.3360000 ...   184.5020000  187.8800000  \\\n",
      "0      0.107      0.612      0.904 ...       198.665      202.214   \n",
      "\n",
      "   183.0000000  182.0000000  0.0053680  0.0000255  0.0000000  0.0000000.1  \\\n",
      "0        194.0        193.0   0.004988    0.00002        0.0          0.0   \n",
      "\n",
      "   0.0000000.2  1.1  \n",
      "0          0.0    1  \n",
      "\n",
      "[1 rows x 28 columns]\n"
     ]
    }
   ],
   "source": [
    "print(dftest.head(1))"
   ]
  },
  {
   "cell_type": "code",
   "execution_count": 6,
   "metadata": {},
   "outputs": [],
   "source": [
    "dftest.columns = ['subject_id',\n",
    "    'jitter_local','jitter_local_absolute','jitter_rap','jitter_ppq5','jitter_ddp', \n",
    "'shimmer_local','Shimmer_local_dB','Shimmer_apq3','shimmer_apq5', 'shimmer_apq11','shimmer_dda', \n",
    "'ac','nth','htn', \n",
    "'median_pitch', 'mean_pitch','standard_deviation', 'minimum_pitch', 'maximum_pitch', \n",
    "'number_of_pulses','number_of_periods', 'mean_period', 'standard_deviation_of_period', \n",
    " 'fraction_of_locally_unvoiced_frames', 'number_of_voice_breaks' ,'degree_of_voice_breaks',\n",
    "              'class_information'\n",
    "]"
   ]
  },
  {
   "cell_type": "code",
   "execution_count": 8,
   "metadata": {},
   "outputs": [
    {
     "name": "stdout",
     "output_type": "stream",
     "text": [
      "Index(['subject_id', 'jitter_local', 'jitter_local_absolute', 'jitter_rap',\n",
      "       'jitter_ppq5', 'jitter_ddp', 'shimmer_local', 'Shimmer_local_dB',\n",
      "       'Shimmer_apq3', 'shimmer_apq5', 'shimmer_apq11', 'shimmer_dda', 'ac',\n",
      "       'nth', 'htn', 'median_pitch', 'mean_pitch', 'standard_deviation',\n",
      "       'minimum_pitch', 'maximum_pitch', 'number_of_pulses',\n",
      "       'number_of_periods', 'mean_period', 'standard_deviation_of_period',\n",
      "       'fraction_of_locally_unvoiced_frames', 'number_of_voice_breaks',\n",
      "       'degree_of_voice_breaks', 'class_information'],\n",
      "      dtype='object')\n"
     ]
    }
   ],
   "source": [
    "print(dftest.columns)"
   ]
  },
  {
   "cell_type": "code",
   "execution_count": 9,
   "metadata": {},
   "outputs": [],
   "source": [
    "export_csv = dftest.to_csv(r'C:\\Users\\bhave\\Desktop\\MedHack\\formatted_test_data.csv', index = None, header=True)"
   ]
  },
  {
   "cell_type": "code",
   "execution_count": null,
   "metadata": {},
   "outputs": [],
   "source": []
  }
 ],
 "metadata": {
  "kernelspec": {
   "display_name": "Python 3",
   "language": "python",
   "name": "python3"
  },
  "language_info": {
   "codemirror_mode": {
    "name": "ipython",
    "version": 3
   },
   "file_extension": ".py",
   "mimetype": "text/x-python",
   "name": "python",
   "nbconvert_exporter": "python",
   "pygments_lexer": "ipython3",
   "version": "3.7.1"
  }
 },
 "nbformat": 4,
 "nbformat_minor": 2
}
