{
 "cells": [
  {
   "cell_type": "code",
   "execution_count": 1,
   "metadata": {},
   "outputs": [],
   "source": [
    "import pandas as pd"
   ]
  },
  {
   "cell_type": "code",
   "execution_count": 2,
   "metadata": {},
   "outputs": [],
   "source": [
    "dftrain = pd.read_csv('train_data.txt', delimiter=\",\")"
   ]
  },
  {
   "cell_type": "code",
   "execution_count": 3,
   "metadata": {},
   "outputs": [],
   "source": [
    "dftrain.columns = ['subject_id',\n",
    "    'jitter_local','jitter_local_absolute','jitter_rap','jitter_ppq5','jitter_ddp', \n",
    "'shimmer_local','Shimmer_local_dB','Shimmer_apq3','shimmer_apq5', 'shimmer_apq11','shimmer_dda', \n",
    "'ac','nth','htn', \n",
    "'median_pitch', 'mean_pitch','standard_deviation', 'minimum_pitch', 'maximum_pitch', \n",
    "'number_of_pulses','number_of_periods', 'mean_period', 'standard_deviation_of_period', \n",
    " 'fraction_of_locally_unvoiced_frames', 'number_of_voice_breaks' ,'degree_of_voice_breaks',\n",
    "          'UPDRS', 'class_information']"
   ]
  },
  {
   "cell_type": "code",
   "execution_count": 4,
   "metadata": {},
   "outputs": [
    {
     "name": "stdout",
     "output_type": "stream",
     "text": [
      "   subject_id  jitter_local  jitter_local_absolute  jitter_rap  jitter_ppq5  \\\n",
      "0           1         0.728               0.000038       0.353        0.376   \n",
      "1           1         1.220               0.000074       0.732        0.670   \n",
      "2           1         2.502               0.000123       1.156        1.634   \n",
      "3           1         3.509               0.000167       1.715        1.539   \n",
      "4           1         2.470               0.000126       1.358        1.341   \n",
      "\n",
      "   jitter_ddp  shimmer_local  Shimmer_local_dB  Shimmer_apq3  shimmer_apq5  \\\n",
      "0       1.059          5.864             0.642         2.058         3.180   \n",
      "1       2.196          8.719             0.875         4.347         5.166   \n",
      "2       3.469         13.513             1.273         5.263         8.771   \n",
      "3       5.145          9.112             1.040         3.102         4.927   \n",
      "4       4.075         10.696             1.256         5.262         7.076   \n",
      "\n",
      "         ...          maximum_pitch  number_of_pulses  number_of_periods  \\\n",
      "0        ...                234.505               170                169   \n",
      "1        ...                211.442              1431               1427   \n",
      "2        ...                220.230                94                 92   \n",
      "3        ...                225.162               117                114   \n",
      "4        ...                202.812                74                 73   \n",
      "\n",
      "   mean_period  standard_deviation_of_period  \\\n",
      "0     0.005181                      0.000403   \n",
      "1     0.006071                      0.000474   \n",
      "2     0.004910                      0.000320   \n",
      "3     0.004757                      0.000380   \n",
      "4     0.005118                      0.000187   \n",
      "\n",
      "   fraction_of_locally_unvoiced_frames  number_of_voice_breaks  \\\n",
      "0                                2.247                       0   \n",
      "1                               10.656                       1   \n",
      "2                                0.000                       0   \n",
      "3                               18.182                       1   \n",
      "4                               23.214                       0   \n",
      "\n",
      "   degree_of_voice_breaks  UPDRS  class_information  \n",
      "0                   0.000     23                  1  \n",
      "1                   0.178     23                  1  \n",
      "2                   0.000     23                  1  \n",
      "3                  13.318     23                  1  \n",
      "4                   0.000     23                  1  \n",
      "\n",
      "[5 rows x 29 columns]\n"
     ]
    }
   ],
   "source": [
    "print(dftrain.head())"
   ]
  },
  {
   "cell_type": "code",
   "execution_count": 5,
   "metadata": {},
   "outputs": [],
   "source": [
    "export_csv = dftrain.to_csv(r'C:\\Users\\bhave\\Desktop\\MedHack\\formatted_train_data.csv', index = None, header=True)"
   ]
  },
  {
   "cell_type": "code",
   "execution_count": null,
   "metadata": {},
   "outputs": [],
   "source": []
  }
 ],
 "metadata": {
  "kernelspec": {
   "display_name": "Python 3",
   "language": "python",
   "name": "python3"
  },
  "language_info": {
   "codemirror_mode": {
    "name": "ipython",
    "version": 3
   },
   "file_extension": ".py",
   "mimetype": "text/x-python",
   "name": "python",
   "nbconvert_exporter": "python",
   "pygments_lexer": "ipython3",
   "version": "3.7.1"
  }
 },
 "nbformat": 4,
 "nbformat_minor": 2
}
